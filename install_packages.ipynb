{
 "cells": [
  {
   "cell_type": "markdown",
   "metadata": {},
   "source": [
    "# Install necessary python packages\n",
    "\n",
    "Only need to run once"
   ]
  },
  {
   "cell_type": "code",
   "execution_count": null,
   "metadata": {},
   "outputs": [],
   "source": [
    "import subprocess\n",
    "import sys\n",
    "\n",
    "# List of packages to install\n",
    "packages = [\n",
    "    \"pandas\",\n",
    "    \"numpy\",\n",
    "    \"scipy\",\n",
    "    \"seaborn\",\n",
    "    \"matplotlib\",\n",
    "    \"pillow\"\n",
    "]\n",
    "\n",
    "# Function to install packages using pip\n",
    "def install_packages(packages):\n",
    "    for package in packages:\n",
    "        try:\n",
    "            subprocess.check_call([sys.executable, \"-m\", \"pip\", \"install\", package])\n",
    "            print(f\"Successfully installed {package}\")\n",
    "        except subprocess.CalledProcessError as e:\n",
    "            print(f\"Failed to install {package}: {e}\")\n",
    "\n",
    "# Run the installation\n",
    "if __name__ == \"__main__\":\n",
    "    install_packages(packages)\n"
   ]
  }
 ],
 "metadata": {
  "language_info": {
   "name": "python"
  }
 },
 "nbformat": 4,
 "nbformat_minor": 2
}
